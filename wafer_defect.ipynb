{
 "cells": [
  {
   "cell_type": "code",
   "execution_count": 2,
   "id": "4b959cd7",
   "metadata": {},
   "outputs": [],
   "source": [
    "import numpy as np\n",
    "from sklearn.utils import shuffle\n",
    "from keras.models import Sequential\n",
    "from keras.layers import Dense, Conv2D, MaxPooling2D, Flatten, Dropout\n",
    "from keras import Input\n",
    "from sklearn.model_selection import train_test_split\n",
    "from keras import layers\n",
    "from keras import models\n",
    "\n",
    "path = \"datasets2022.npz\"\n",
    "data = np.load(path)\n",
    "X_train = data['train']\n",
    "y_train = data['y_train']\n",
    "X_test = data['test']\n",
    "X_train, X_val, y_train, y_val = train_test_split(X_train, y_train, test_size=0.25, random_state=42, shuffle=False)\n",
    "X_val1 = X_val.copy()"
   ]
  },
  {
   "cell_type": "markdown",
   "id": "d5ec9fcf",
   "metadata": {},
   "source": [
    "## Preprocessing"
   ]
  },
  {
   "cell_type": "code",
   "execution_count": 203,
   "id": "2dbae280",
   "metadata": {},
   "outputs": [],
   "source": [
    "import imutils\n",
    "from PIL import ImageFilter\n",
    "from PIL import Image\n",
    "\n",
    "# Rotate the image for 90,180,270 degrees\n",
    "rotated_X = [imutils.rotate(x, angle=90) for x in X_train]\n",
    "rotated_X += [imutils.rotate(x, angle=180) for x in X_train]\n",
    "rotated_X += [imutils.rotate(x, angle=270) for x in X_train]\n",
    "rotated_X = np.expand_dims(np.array(rotated_X), axis=3)\n",
    "\n",
    "flip1_X = X_train[:,::-1,:,:]\n",
    "flip2_X = X_train[:,:,::-1,:]\n",
    "X_train  = np.concatenate([X_train, rotated_X, flip1_X, flip2_X], axis=0)\n",
    "y_train = np.concatenate([y_train]*6, axis=0)\n",
    "\n",
    "X_train1 = X_train.copy() \n",
    "X_train1, y_train1 = shuffle(X_train1, y_train, random_state=42)\n",
    "\n",
    "X_train = X_train.squeeze()\n",
    "\n",
    "# Mode filter\n",
    "for i in range(X_train.shape[0]):\n",
    "    img = Image.fromarray(X_train[i]*255)\n",
    "    img = img.convert('RGB')\n",
    "    img_modefilter=img.filter(ImageFilter.ModeFilter(2))\n",
    "    img = img_modefilter.convert('F')\n",
    "    X_train[i] = np.array(img)/255\n",
    "X_train = np.expand_dims(np.array(X_train), axis=3)\n",
    "X_train, y_train = shuffle(X_train, y_train, random_state=42)\n",
    "\n",
    "del rotated_X\n",
    "del flip1_X\n",
    "del flip2_X\n",
    "del data\n"
   ]
  },
  {
   "cell_type": "markdown",
   "id": "71e00be8",
   "metadata": {},
   "source": [
    "## Model"
   ]
  },
  {
   "cell_type": "markdown",
   "id": "c9a2e5f2",
   "metadata": {},
   "source": [
    "### Model 1: Dropout"
   ]
  },
  {
   "cell_type": "code",
   "execution_count": null,
   "id": "787498d8",
   "metadata": {},
   "outputs": [],
   "source": [
    "def build_model():\n",
    "    model = Sequential()\n",
    "    model.add(Conv2D(filters=32, kernel_size=(3,3), padding='same', \n",
    "                    input_shape=(52,52,1), data_format='channels_last',\n",
    "                    activation='relu'))\n",
    "    model.add(MaxPooling2D(pool_size=(2,2)))  \n",
    "    model.add(Conv2D(filters=64, kernel_size=(3,3), padding='same', activation='relu'))  \n",
    "    model.add(MaxPooling2D(pool_size=(2,2)))\n",
    "    model.add(Conv2D(filters=64, kernel_size=(3,3), padding=\"same\", activation='relu'))\n",
    "    model.add(MaxPooling2D(pool_size=(2,2)))\n",
    "    model.add(Conv2D(filters=128, kernel_size=(3,3), padding=\"same\", activation='relu'))\n",
    "    model.add(MaxPooling2D(pool_size=(2,2)))\n",
    "    model.add(Flatten())  \n",
    "    model.add(Dropout(0.5))\n",
    "    model.add(Dense(128, activation='tanh'))\n",
    "    model.add(Dropout(0.5))\n",
    "    model.add(Dense(84, activation='tanh'))\n",
    "    model.add(Dropout(0.5))\n",
    "    model.add(Dense(8, activation='sigmoid'))\n",
    "    model.compile(optimizer = \"adam\",\n",
    "                    loss = \"binary_crossentropy\",\n",
    "                    metrics = ['binary_accuracy'])\n",
    "    return model\n"
   ]
  },
  {
   "cell_type": "code",
   "execution_count": null,
   "id": "9c42f9f3",
   "metadata": {},
   "outputs": [],
   "source": [
    "import keras\n",
    "import os\n",
    "os.environ[\"CUDA_VISIBLE_DEVICES\"]=\"0\" \n",
    "callback = keras.callbacks.EarlyStopping(monitor='loss', patience=2)\n",
    "model = build_model()\n",
    "model.fit(X_train, y_train, validation_data = [X_val, y_val], batch_size=128, epochs=20,callbacks=[callback])"
   ]
  },
  {
   "cell_type": "markdown",
   "id": "ed8c3f72",
   "metadata": {},
   "source": [
    "### Model 2: Dropblock"
   ]
  },
  {
   "cell_type": "code",
   "execution_count": null,
   "id": "747826de",
   "metadata": {},
   "outputs": [],
   "source": [
    "from keras_drop_block import DropBlock2D\n",
    "def build_model1():\n",
    "    model = Sequential()\n",
    "    model.add(DropBlock2D(block_size=7, keep_prob=0.7, name='Input-Dropout1'))\n",
    "    model.add(Conv2D(filters=32, kernel_size=(3,3), padding='same', \n",
    "                    input_shape=(52,52,1), data_format='channels_last',\n",
    "                    activation='relu'))\n",
    "    model.add(MaxPooling2D(pool_size=(2,2)))\n",
    "    model.add(DropBlock2D(block_size=7, keep_prob=0.7, name='Input-Dropout2'))\n",
    "    model.add(Conv2D(filters=64, kernel_size=(3,3), padding='same', activation='relu'))  \n",
    "    model.add(MaxPooling2D(pool_size=(2,2)))\n",
    "    model.add(DropBlock2D(block_size=7, keep_prob=0.7, name='Input-Dropout3'))\n",
    "    model.add(Conv2D(filters=64, kernel_size=(3,3), padding=\"same\", activation='relu'))\n",
    "    model.add(MaxPooling2D(pool_size=(2,2)))\n",
    "    model.add(Conv2D(filters=128, kernel_size=(3,3), padding=\"same\", activation='relu'))\n",
    "    model.add(MaxPooling2D(pool_size=(2,2)))\n",
    "    model.add(Flatten())  \n",
    "    model.add(Dense(128, activation='tanh'))\n",
    "    model.add(Dense(84, activation='tanh'))\n",
    "    model.add(Dropout(0.5))\n",
    "    model.add(Dense(8, activation='sigmoid'))\n",
    "    model.compile(optimizer = \"adam\",\n",
    "                    loss = \"binary_crossentropy\",\n",
    "                    metrics = ['binary_accuracy'])\n",
    "    return model"
   ]
  },
  {
   "cell_type": "code",
   "execution_count": null,
   "id": "04f71139",
   "metadata": {},
   "outputs": [],
   "source": [
    "model1 = build_model1()\n",
    "callback = keras.callbacks.EarlyStopping(monitor='loss', patience=2)\n",
    "model1.fit(X_train, y_train,batch_size=128,validation_data =[X_val,y_val], epochs=200,callbacks=[callback])"
   ]
  },
  {
   "cell_type": "markdown",
   "id": "0616a169",
   "metadata": {},
   "source": [
    "### Model 3: VGGNet"
   ]
  },
  {
   "cell_type": "code",
   "execution_count": null,
   "id": "d32e11df",
   "metadata": {},
   "outputs": [],
   "source": [
    "import torch\n",
    "from torch.nn import LazyBatchNorm2d, Sigmoid\n",
    "def VGGLayers1(configs):\n",
    "    channels = 1 \n",
    "    layers = []\n",
    "    for (N, C) in configs:\n",
    "        for _ in range(N):\n",
    "            conv = torch.nn.Conv2d(channels, C, kernel_size=6, padding=3)\n",
    "            layers += [conv, torch.nn.ReLU(inplace=True)]\n",
    "            channels = C\n",
    "        layers += [torch.nn.MaxPool2d(kernel_size=5, stride=2)]\n",
    "        layers += [LazyBatchNorm2d()]\n",
    "    return torch.nn.Sequential(*layers)\n",
    "\n",
    "def VGGLayers2(configs):\n",
    "    channels = 32 \n",
    "    layers = []\n",
    "    for (N, C) in configs:\n",
    "        for _ in range(N):\n",
    "            conv = torch.nn.Conv2d(channels, C, kernel_size=4, padding=1)\n",
    "            layers += [conv, torch.nn.ReLU(inplace=True)]\n",
    "            channels = C\n",
    "        layers += [torch.nn.MaxPool2d(kernel_size=3, stride=2)]\n",
    "    return torch.nn.Sequential(*layers)\n",
    "\n",
    "class Net(torch.nn.Module):\n",
    "    def __init__(self):\n",
    "        super().__init__()\n",
    "        self.VGG1 = VGGLayers1(configs=[(2,32)])\n",
    "        self.VGG2 = VGGLayers2(configs=[(2,32),(2,3)])\n",
    "        self.fc1 = torch.nn.Linear(20000, 300)\n",
    "        self.fc2 = torch.nn.Linear(300, 200)\n",
    "        self.fc3 = torch.nn.Linear(300, 8)\n",
    "        self.droupout = torch.nn.Dropout(p=0.5)\n",
    "        self.fla = Flatten()\n",
    "        self.sig = Sigmoid()\n",
    "    def forward(self, x):\n",
    "        out = self.VGG1(x)\n",
    "#         out = self.VGG2(out)\n",
    "        out = self.fla(out)\n",
    "        out = self.fc1(out)\n",
    "        out = F.relu(out)\n",
    "        out = self.droupout(out)\n",
    "#         out = self.fc2(out)\n",
    "#         out = F.relu(out)\n",
    "        out = self.droupout(out)\n",
    "        out = self.fc3(out)\n",
    "        out = self.sig(out)  \n",
    "        return out"
   ]
  },
  {
   "cell_type": "markdown",
   "id": "0fc89e05",
   "metadata": {},
   "source": [
    "# Evaluation"
   ]
  },
  {
   "cell_type": "code",
   "execution_count": null,
   "id": "9dc3f73e",
   "metadata": {},
   "outputs": [],
   "source": [
    "y_train_prob = model.predict(X_train)\n",
    "y_val_prob = model.predict(X_val)\n",
    "y_test_prob = model.predict(X_test)"
   ]
  },
  {
   "cell_type": "markdown",
   "id": "7e9b6545",
   "metadata": {},
   "source": [
    "## With Mode Filter"
   ]
  },
  {
   "cell_type": "code",
   "execution_count": null,
   "id": "6febc5cd",
   "metadata": {},
   "outputs": [],
   "source": [
    "from sklearn.metrics import precision_score, recall_score, accuracy_score, hamming_loss\n",
    "\n",
    "def round_prob(y_prob):\n",
    "    return np.round(y_prob).astype(int)\n",
    "y_train_pred, y_val_pred, y_test_pred = round_prob(y_train_prob), round_prob(y_val_prob), round_prob(y_test_prob)\n",
    "\n",
    "print(\"train accuracy:         \", accuracy_score(y_train_pred, y_train))\n",
    "print(\"validation accuracy:    \", accuracy_score(y_val_pred, y_val))\n",
    "print(\"validation precision:   \", np.round(precision_score(y_val, y_val_pred, average=None),4)) # true +ve / pred +ve\n",
    "print(\"validation recall:      \", np.round(recall_score(y_val, y_val_pred, average=None),4))    # true +ve / all +ve\n",
    "print(\"validation hamming loss:\", hamming_loss(y_val_pred, y_val))"
   ]
  },
  {
   "cell_type": "markdown",
   "id": "834b7c1f",
   "metadata": {},
   "source": [
    "## Without Mode Filter"
   ]
  },
  {
   "cell_type": "code",
   "execution_count": null,
   "id": "fdc79dd7",
   "metadata": {},
   "outputs": [],
   "source": [
    "model = build_model()\n",
    "model.fit(X_train1, y_train1, validation_data = [X_val1, y_val], batch_size=128, epochs=20,callbacks=[callback])\n",
    "y_train_prob = model.predict(X_train1)\n",
    "y_val_prob = model.predict(X_val1)\n",
    "y_test_prob = model.predict(X_test)\n",
    "y_train_pred, y_val_pred, y_test_pred = round_prob(y_train_prob), round_prob(y_val_prob), round_prob(y_test_prob)\n",
    "print(\"train accuracy:         \", accuracy_score(y_train_pred, y_train))\n",
    "print(\"validation accuracy:    \", accuracy_score(y_val_pred, y_val))\n",
    "print(\"validation precision:   \", np.round(precision_score(y_val, y_val_pred, average=None),4)) # true +ve / pred +ve\n",
    "print(\"validation recall:      \", np.round(recall_score(y_val, y_val_pred, average=None),4))    # true +ve / all +ve\n",
    "print(\"validation hamming loss:\", hamming_loss(y_val_pred, y_val))"
   ]
  },
  {
   "cell_type": "markdown",
   "id": "ff87296d",
   "metadata": {},
   "source": [
    "## Mode Filter + Dropblock"
   ]
  },
  {
   "cell_type": "code",
   "execution_count": null,
   "id": "fd196f54",
   "metadata": {},
   "outputs": [],
   "source": [
    "y_train_prob1 = model1.predict(X_train)\n",
    "y_val_prob1 = model1.predict(X_val)\n",
    "y_test_prob1 = model1.predict(X_test)\n",
    "y_train_pred1, y_val_pred1,y_test_prob1 = round_prob(y_train_prob1), round_prob(y_val_prob1), round_prob(y_test_prob1)\n",
    "print(\"train accuracy:         \", accuracy_score(y_train_pred1, y_train))\n",
    "print(\"validation accuracy:    \", accuracy_score(y_val_pred1, y_val))\n",
    "print(\"validation precision:   \", np.round(precision_score(y_val, y_val_pred1, average=None),4)) # true +ve / pred +ve\n",
    "print(\"validation recall:      \", np.round(recall_score(y_val, y_val_pred1, average=None),4))    # true +ve / all +ve\n",
    "print(\"validation hamming loss:\", hamming_loss(y_val_pred1, y_val))"
   ]
  },
  {
   "cell_type": "markdown",
   "id": "0843112f",
   "metadata": {},
   "source": [
    "## Mode Filter w/o Dropblock"
   ]
  },
  {
   "cell_type": "code",
   "execution_count": null,
   "id": "503404de",
   "metadata": {},
   "outputs": [],
   "source": [
    "model = build_model()\n",
    "model.fit(X_train1, y_train1, validation_data = [X_val1, y_val], batch_size=128, epochs=20,callbacks=[callback])\n",
    "y_train_prob = model.predict(X_train1)\n",
    "y_val_prob = model.predict(X_val1)\n",
    "y_test_prob = model.predict(X_test)\n",
    "y_train_pred, y_val_pred, y_test_pred = round_prob(y_train_prob), round_prob(y_val_prob), round_prob(y_test_prob)\n",
    "print(\"train accuracy:         \", accuracy_score(y_train_pred, y_train))\n",
    "print(\"validation accuracy:    \", accuracy_score(y_val_pred, y_val))\n",
    "print(\"validation precision:   \", np.round(precision_score(y_val, y_val_pred, average=None),4)) # true +ve / pred +ve\n",
    "print(\"validation recall:      \", np.round(recall_score(y_val, y_val_pred, average=None),4))    # true +ve / all +ve\n",
    "print(\"validation hamming loss:\", hamming_loss(y_val_pred, y_val))"
   ]
  },
  {
   "cell_type": "code",
   "execution_count": null,
   "id": "2dd9f71e",
   "metadata": {},
   "outputs": [],
   "source": [
    "import matplotlib.pyplot as plt\n",
    "all_correct = (y_train_pred == y_train).all(axis=1)\n",
    "counter = 0\n",
    "fig, ax = plt.subplots(1,10, figsize=(12,8))\n",
    "layer1, layer2 = model.layers[0:2]\n",
    "\n",
    "for i, c in enumerate(all_correct):\n",
    "    if not c:\n",
    "        ax[counter].imshow(X_train[i,:,:,0])\n",
    "        # ax2[counter].imshow(layer2(layer1(X_train[i:i+1]))[0,:,:,0])\n",
    "        print(\"{}: \".format(i), y_train[i], \"\\n   \", y_train_pred[i],\"\\n   \", np.round(y_train_prob[i],2))\n",
    "        counter += 1\n",
    "    if counter == 10:\n",
    "        break"
   ]
  },
  {
   "cell_type": "code",
   "execution_count": null,
   "id": "9b8f623b",
   "metadata": {},
   "outputs": [],
   "source": [
    "import pandas as pd\n",
    "pd.DataFrame(y_test_prob1).to_csv(\"./output1.csv\", index=False, header=False)"
   ]
  }
 ],
 "metadata": {
  "kernelspec": {
   "display_name": "Python 3 (ipykernel)",
   "language": "python",
   "name": "python3"
  },
  "language_info": {
   "codemirror_mode": {
    "name": "ipython",
    "version": 3
   },
   "file_extension": ".py",
   "mimetype": "text/x-python",
   "name": "python",
   "nbconvert_exporter": "python",
   "pygments_lexer": "ipython3",
   "version": "3.9.12"
  }
 },
 "nbformat": 4,
 "nbformat_minor": 5
}
